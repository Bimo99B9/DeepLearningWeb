{
 "cells": [
  {
   "attachments": {},
   "cell_type": "markdown",
   "metadata": {},
   "source": [
    "## Frameworks de alto nivel (PyTorch Lightning)\n",
    "\n",
    "<a target=\"_blank\" href=\"https://github.com/pglez82/DeepLearningWeb/blob/master/labs/notebooks/Frameworks%20alto%20nivel%20(PyTorch%20Lightning).ipynb\">\n",
    "  <img src=\"https://colab.research.google.com/assets/colab-badge.svg\" alt=\"Open In Colab\"/>\n",
    "</a>\n",
    "\n",
    "PyTorch Lightning es una biblioteca de código abierto diseñada para simplificar y acelerar el proceso de entrenamiento de modelos de aprendizaje profundo utilizando PyTorch. Proporciona una abstracción de alto nivel sobre PyTorch que ayuda a los investigadores y desarrolladores a escribir código más limpio y legible, al tiempo que aprovechan al máximo la flexibilidad y potencia de PyTorch.\n",
    "\n",
    "Una de las principales ventajas de PyTorch Lightning es su enfoque en la modularidad y la organización del código. Proporciona una estructura clara y consistente para definir modelos, optimizadores, funciones de pérdida y bucles de entrenamiento y validación. Esto facilita la reutilización de código y la experimentación rápida con diferentes arquitecturas y configuraciones de entrenamiento.\n",
    "\n",
    "Además, PyTorch Lightning se encarga de tareas como la configuración de dispositivos (CPU o GPU), la administración automática de la memoria, el seguimiento de métricas durante el entrenamiento y la gestión de la generación de registros (logs). También incluye características avanzadas, como el entrenamiento distribuido y la integración con bibliotecas populares de visualización y registro."
   ]
  },
  {
   "attachments": {},
   "cell_type": "markdown",
   "metadata": {},
   "source": [
    "### Instalación"
   ]
  },
  {
   "cell_type": "code",
   "execution_count": 5,
   "metadata": {},
   "outputs": [
    {
     "name": "stdout",
     "output_type": "stream",
     "text": [
      "Defaulting to user installation because normal site-packages is not writeable\n",
      "Requirement already satisfied: lightning in /home/pablo/.local/lib/python3.10/site-packages (2.0.5)\n",
      "Requirement already satisfied: typing-extensions<6.0,>=4.0.0 in /home/pablo/.local/lib/python3.10/site-packages (from lightning) (4.7.1)\n",
      "Requirement already satisfied: beautifulsoup4<6.0,>=4.8.0 in /usr/lib/python3/dist-packages (from lightning) (4.10.0)\n",
      "Requirement already satisfied: backoff<4.0,>=2.2.1 in /home/pablo/.local/lib/python3.10/site-packages (from lightning) (2.2.1)\n",
      "Requirement already satisfied: uvicorn<2.0 in /home/pablo/.local/lib/python3.10/site-packages (from lightning) (0.23.0)\n",
      "Requirement already satisfied: traitlets<7.0,>=5.3.0 in /home/pablo/.local/lib/python3.10/site-packages (from lightning) (5.9.0)\n",
      "Requirement already satisfied: torch<4.0,>=1.11.0 in /home/pablo/.local/lib/python3.10/site-packages (from lightning) (2.0.1+cpu)\n",
      "Requirement already satisfied: tqdm<6.0,>=4.57.0 in /home/pablo/.local/lib/python3.10/site-packages (from lightning) (4.65.0)\n",
      "Requirement already satisfied: starlette in /home/pablo/.local/lib/python3.10/site-packages (from lightning) (0.27.0)\n",
      "Requirement already satisfied: fsspec<2025.0,>=2022.5.0 in /home/pablo/.local/lib/python3.10/site-packages (from lightning) (2023.6.0)\n",
      "Requirement already satisfied: pydantic<2.0.0,>=1.7.4 in /home/pablo/.local/lib/python3.10/site-packages (from lightning) (1.10.11)\n",
      "Requirement already satisfied: PyYAML<8.0 in /usr/lib/python3/dist-packages (from lightning) (5.4.1)\n",
      "Requirement already satisfied: psutil<7.0 in /usr/lib/python3/dist-packages (from lightning) (5.9.0)\n",
      "Requirement already satisfied: urllib3<4.0 in /home/pablo/.local/lib/python3.10/site-packages (from lightning) (1.26.13)\n",
      "Requirement already satisfied: numpy<3.0,>=1.17.2 in /usr/lib/python3/dist-packages (from lightning) (1.21.5)\n",
      "Requirement already satisfied: torchmetrics<2.0,>=0.7.0 in /home/pablo/.local/lib/python3.10/site-packages (from lightning) (1.0.1)\n",
      "Requirement already satisfied: inquirer<5.0,>=2.10.0 in /home/pablo/.local/lib/python3.10/site-packages (from lightning) (3.1.3)\n",
      "Requirement already satisfied: rich<15.0,>=12.3.0 in /home/pablo/.local/lib/python3.10/site-packages (from lightning) (13.4.2)\n",
      "Requirement already satisfied: websocket-client<3.0 in /home/pablo/.local/lib/python3.10/site-packages (from lightning) (1.6.1)\n",
      "Requirement already satisfied: websockets<13.0 in /home/pablo/.local/lib/python3.10/site-packages (from lightning) (11.0.3)\n",
      "Requirement already satisfied: dateutils<2.0 in /home/pablo/.local/lib/python3.10/site-packages (from lightning) (0.6.12)\n",
      "Requirement already satisfied: requests<4.0 in /home/pablo/.local/lib/python3.10/site-packages (from lightning) (2.28.1)\n",
      "Requirement already satisfied: deepdiff<8.0,>=5.7.0 in /home/pablo/.local/lib/python3.10/site-packages (from lightning) (6.3.1)\n",
      "Requirement already satisfied: croniter<1.5.0,>=1.3.0 in /home/pablo/.local/lib/python3.10/site-packages (from lightning) (1.4.1)\n",
      "Requirement already satisfied: arrow<3.0,>=1.2.0 in /home/pablo/.local/lib/python3.10/site-packages (from lightning) (1.2.3)\n",
      "Requirement already satisfied: packaging<25.0,>=17.1 in /home/pablo/.local/lib/python3.10/site-packages (from lightning) (23.1)\n",
      "Requirement already satisfied: lightning-cloud>=0.5.37 in /home/pablo/.local/lib/python3.10/site-packages (from lightning) (0.5.37)\n",
      "Requirement already satisfied: lightning-utilities<2.0,>=0.7.0 in /home/pablo/.local/lib/python3.10/site-packages (from lightning) (0.9.0)\n",
      "Requirement already satisfied: Jinja2<5.0 in /home/pablo/.local/lib/python3.10/site-packages (from lightning) (3.1.2)\n",
      "Requirement already satisfied: click<10.0 in /usr/lib/python3/dist-packages (from lightning) (8.0.3)\n",
      "Requirement already satisfied: python-multipart<2.0,>=0.0.5 in /home/pablo/.local/lib/python3.10/site-packages (from lightning) (0.0.6)\n",
      "Requirement already satisfied: starsessions<2.0,>=1.2.1 in /home/pablo/.local/lib/python3.10/site-packages (from lightning) (1.3.0)\n",
      "Requirement already satisfied: pytorch-lightning in /home/pablo/.local/lib/python3.10/site-packages (from lightning) (2.0.5)\n",
      "Requirement already satisfied: fastapi<2.0,>=0.92.0 in /home/pablo/.local/lib/python3.10/site-packages (from lightning) (0.100.0)\n",
      "Requirement already satisfied: python-dateutil>=2.7.0 in /home/pablo/.local/lib/python3.10/site-packages (from arrow<3.0,>=1.2.0->lightning) (2.8.2)\n",
      "Requirement already satisfied: pytz in /home/pablo/.local/lib/python3.10/site-packages (from dateutils<2.0->lightning) (2023.3)\n",
      "Requirement already satisfied: ordered-set<4.2.0,>=4.0.2 in /home/pablo/.local/lib/python3.10/site-packages (from deepdiff<8.0,>=5.7.0->lightning) (4.1.0)\n",
      "Requirement already satisfied: aiohttp!=4.0.0a0,!=4.0.0a1 in /home/pablo/.local/lib/python3.10/site-packages (from fsspec<2025.0,>=2022.5.0->lightning) (3.8.4)\n",
      "Requirement already satisfied: python-editor>=1.0.4 in /home/pablo/.local/lib/python3.10/site-packages (from inquirer<5.0,>=2.10.0->lightning) (1.0.4)\n",
      "Requirement already satisfied: blessed>=1.19.0 in /usr/lib/python3/dist-packages (from inquirer<5.0,>=2.10.0->lightning) (1.19.0)\n",
      "Requirement already satisfied: readchar>=3.0.6 in /home/pablo/.local/lib/python3.10/site-packages (from inquirer<5.0,>=2.10.0->lightning) (4.0.5)\n",
      "Requirement already satisfied: MarkupSafe>=2.0 in /home/pablo/.local/lib/python3.10/site-packages (from Jinja2<5.0->lightning) (2.1.2)\n",
      "Requirement already satisfied: pyjwt in /usr/lib/python3/dist-packages (from lightning-cloud>=0.5.37->lightning) (2.3.0)\n",
      "Requirement already satisfied: six in /usr/lib/python3/dist-packages (from lightning-cloud>=0.5.37->lightning) (1.16.0)\n",
      "Requirement already satisfied: idna<4,>=2.5 in /home/pablo/.local/lib/python3.10/site-packages (from requests<4.0->lightning) (3.4)\n",
      "Requirement already satisfied: certifi>=2017.4.17 in /home/pablo/.local/lib/python3.10/site-packages (from requests<4.0->lightning) (2022.12.7)\n",
      "Requirement already satisfied: charset-normalizer<3,>=2 in /home/pablo/.local/lib/python3.10/site-packages (from requests<4.0->lightning) (2.1.1)\n",
      "Requirement already satisfied: pygments<3.0.0,>=2.13.0 in /home/pablo/.local/lib/python3.10/site-packages (from rich<15.0,>=12.3.0->lightning) (2.15.1)\n",
      "Requirement already satisfied: markdown-it-py>=2.2.0 in /home/pablo/.local/lib/python3.10/site-packages (from rich<15.0,>=12.3.0->lightning) (3.0.0)\n",
      "Requirement already satisfied: anyio<5,>=3.4.0 in /home/pablo/.local/lib/python3.10/site-packages (from starlette->lightning) (3.7.1)\n",
      "Requirement already satisfied: itsdangerous<3.0.0,>=2.0.1 in /home/pablo/.local/lib/python3.10/site-packages (from starsessions<2.0,>=1.2.1->lightning) (2.1.2)\n",
      "Requirement already satisfied: filelock in /home/pablo/.local/lib/python3.10/site-packages (from torch<4.0,>=1.11.0->lightning) (3.9.0)\n",
      "Requirement already satisfied: networkx in /home/pablo/.local/lib/python3.10/site-packages (from torch<4.0,>=1.11.0->lightning) (3.0)\n",
      "Requirement already satisfied: sympy in /home/pablo/.local/lib/python3.10/site-packages (from torch<4.0,>=1.11.0->lightning) (1.11.1)\n",
      "Requirement already satisfied: h11>=0.8 in /home/pablo/.local/lib/python3.10/site-packages (from uvicorn<2.0->lightning) (0.14.0)\n",
      "Requirement already satisfied: yarl<2.0,>=1.0 in /home/pablo/.local/lib/python3.10/site-packages (from aiohttp!=4.0.0a0,!=4.0.0a1->fsspec<2025.0,>=2022.5.0->lightning) (1.9.2)\n",
      "Requirement already satisfied: multidict<7.0,>=4.5 in /home/pablo/.local/lib/python3.10/site-packages (from aiohttp!=4.0.0a0,!=4.0.0a1->fsspec<2025.0,>=2022.5.0->lightning) (6.0.4)\n",
      "Requirement already satisfied: frozenlist>=1.1.1 in /home/pablo/.local/lib/python3.10/site-packages (from aiohttp!=4.0.0a0,!=4.0.0a1->fsspec<2025.0,>=2022.5.0->lightning) (1.4.0)\n",
      "Requirement already satisfied: aiosignal>=1.1.2 in /home/pablo/.local/lib/python3.10/site-packages (from aiohttp!=4.0.0a0,!=4.0.0a1->fsspec<2025.0,>=2022.5.0->lightning) (1.3.1)\n",
      "Requirement already satisfied: attrs>=17.3.0 in /usr/lib/python3/dist-packages (from aiohttp!=4.0.0a0,!=4.0.0a1->fsspec<2025.0,>=2022.5.0->lightning) (21.2.0)\n",
      "Requirement already satisfied: async-timeout<5.0,>=4.0.0a3 in /home/pablo/.local/lib/python3.10/site-packages (from aiohttp!=4.0.0a0,!=4.0.0a1->fsspec<2025.0,>=2022.5.0->lightning) (4.0.2)\n",
      "Requirement already satisfied: sniffio>=1.1 in /home/pablo/.local/lib/python3.10/site-packages (from anyio<5,>=3.4.0->starlette->lightning) (1.3.0)\n",
      "Requirement already satisfied: exceptiongroup in /home/pablo/.local/lib/python3.10/site-packages (from anyio<5,>=3.4.0->starlette->lightning) (1.1.2)\n",
      "Requirement already satisfied: mdurl~=0.1 in /home/pablo/.local/lib/python3.10/site-packages (from markdown-it-py>=2.2.0->rich<15.0,>=12.3.0->lightning) (0.1.2)\n",
      "Requirement already satisfied: setuptools>=41.0 in /home/pablo/.local/lib/python3.10/site-packages (from readchar>=3.0.6->inquirer<5.0,>=2.10.0->lightning) (58.3.0)\n",
      "Requirement already satisfied: mpmath>=0.19 in /home/pablo/.local/lib/python3.10/site-packages (from sympy->torch<4.0,>=1.11.0->lightning) (1.2.1)\n",
      "Defaulting to user installation because normal site-packages is not writeable\n",
      "Requirement already satisfied: ipympl in /home/pablo/.local/lib/python3.10/site-packages (0.9.3)\n",
      "Requirement already satisfied: ipython<9 in /home/pablo/.local/lib/python3.10/site-packages (from ipympl) (8.13.2)\n",
      "Requirement already satisfied: ipywidgets<9,>=7.6.0 in /home/pablo/.local/lib/python3.10/site-packages (from ipympl) (8.0.6)\n",
      "Requirement already satisfied: ipython-genutils in /home/pablo/.local/lib/python3.10/site-packages (from ipympl) (0.2.0)\n",
      "Requirement already satisfied: numpy in /usr/lib/python3/dist-packages (from ipympl) (1.21.5)\n",
      "Requirement already satisfied: matplotlib<4,>=3.4.0 in /home/pablo/.local/lib/python3.10/site-packages (from ipympl) (3.7.1)\n",
      "Requirement already satisfied: traitlets<6 in /home/pablo/.local/lib/python3.10/site-packages (from ipympl) (5.9.0)\n",
      "Requirement already satisfied: pillow in /usr/lib/python3/dist-packages (from ipympl) (9.0.1)\n",
      "Requirement already satisfied: pexpect>4.3 in /usr/lib/python3/dist-packages (from ipython<9->ipympl) (4.8.0)\n",
      "Requirement already satisfied: stack-data in /home/pablo/.local/lib/python3.10/site-packages (from ipython<9->ipympl) (0.6.2)\n",
      "Requirement already satisfied: matplotlib-inline in /home/pablo/.local/lib/python3.10/site-packages (from ipython<9->ipympl) (0.1.6)\n",
      "Requirement already satisfied: decorator in /usr/lib/python3/dist-packages (from ipython<9->ipympl) (4.4.2)\n",
      "Requirement already satisfied: backcall in /home/pablo/.local/lib/python3.10/site-packages (from ipython<9->ipympl) (0.2.0)\n",
      "Requirement already satisfied: pickleshare in /home/pablo/.local/lib/python3.10/site-packages (from ipython<9->ipympl) (0.7.5)\n",
      "Requirement already satisfied: prompt-toolkit!=3.0.37,<3.1.0,>=3.0.30 in /home/pablo/.local/lib/python3.10/site-packages (from ipython<9->ipympl) (3.0.38)\n",
      "Requirement already satisfied: jedi>=0.16 in /home/pablo/.local/lib/python3.10/site-packages (from ipython<9->ipympl) (0.18.2)\n",
      "Requirement already satisfied: pygments>=2.4.0 in /home/pablo/.local/lib/python3.10/site-packages (from ipython<9->ipympl) (2.15.1)\n",
      "Requirement already satisfied: ipykernel>=4.5.1 in /home/pablo/.local/lib/python3.10/site-packages (from ipywidgets<9,>=7.6.0->ipympl) (6.23.1)\n",
      "Requirement already satisfied: widgetsnbextension~=4.0.7 in /home/pablo/.local/lib/python3.10/site-packages (from ipywidgets<9,>=7.6.0->ipympl) (4.0.7)\n",
      "Requirement already satisfied: jupyterlab-widgets~=3.0.7 in /home/pablo/.local/lib/python3.10/site-packages (from ipywidgets<9,>=7.6.0->ipympl) (3.0.7)\n",
      "Requirement already satisfied: kiwisolver>=1.0.1 in /home/pablo/.local/lib/python3.10/site-packages (from matplotlib<4,>=3.4.0->ipympl) (1.4.4)\n",
      "Requirement already satisfied: contourpy>=1.0.1 in /home/pablo/.local/lib/python3.10/site-packages (from matplotlib<4,>=3.4.0->ipympl) (1.0.7)\n",
      "Requirement already satisfied: pyparsing>=2.3.1 in /usr/lib/python3/dist-packages (from matplotlib<4,>=3.4.0->ipympl) (2.4.7)\n",
      "Requirement already satisfied: packaging>=20.0 in /home/pablo/.local/lib/python3.10/site-packages (from matplotlib<4,>=3.4.0->ipympl) (23.1)\n",
      "Requirement already satisfied: cycler>=0.10 in /home/pablo/.local/lib/python3.10/site-packages (from matplotlib<4,>=3.4.0->ipympl) (0.11.0)\n",
      "Requirement already satisfied: fonttools>=4.22.0 in /home/pablo/.local/lib/python3.10/site-packages (from matplotlib<4,>=3.4.0->ipympl) (4.39.4)\n",
      "Requirement already satisfied: python-dateutil>=2.7 in /home/pablo/.local/lib/python3.10/site-packages (from matplotlib<4,>=3.4.0->ipympl) (2.8.2)\n",
      "Requirement already satisfied: comm>=0.1.1 in /home/pablo/.local/lib/python3.10/site-packages (from ipykernel>=4.5.1->ipywidgets<9,>=7.6.0->ipympl) (0.1.3)\n",
      "Requirement already satisfied: pyzmq>=20 in /home/pablo/.local/lib/python3.10/site-packages (from ipykernel>=4.5.1->ipywidgets<9,>=7.6.0->ipympl) (25.0.2)\n",
      "Requirement already satisfied: jupyter-core!=5.0.*,>=4.12 in /home/pablo/.local/lib/python3.10/site-packages (from ipykernel>=4.5.1->ipywidgets<9,>=7.6.0->ipympl) (5.3.0)\n",
      "Requirement already satisfied: jupyter-client>=6.1.12 in /home/pablo/.local/lib/python3.10/site-packages (from ipykernel>=4.5.1->ipywidgets<9,>=7.6.0->ipympl) (8.2.0)\n",
      "Requirement already satisfied: tornado>=6.1 in /home/pablo/.local/lib/python3.10/site-packages (from ipykernel>=4.5.1->ipywidgets<9,>=7.6.0->ipympl) (6.3.2)\n",
      "Requirement already satisfied: debugpy>=1.6.5 in /home/pablo/.local/lib/python3.10/site-packages (from ipykernel>=4.5.1->ipywidgets<9,>=7.6.0->ipympl) (1.6.7)\n",
      "Requirement already satisfied: nest-asyncio in /home/pablo/.local/lib/python3.10/site-packages (from ipykernel>=4.5.1->ipywidgets<9,>=7.6.0->ipympl) (1.5.6)\n",
      "Requirement already satisfied: psutil in /usr/lib/python3/dist-packages (from ipykernel>=4.5.1->ipywidgets<9,>=7.6.0->ipympl) (5.9.0)\n",
      "Requirement already satisfied: parso<0.9.0,>=0.8.0 in /home/pablo/.local/lib/python3.10/site-packages (from jedi>=0.16->ipython<9->ipympl) (0.8.3)\n",
      "Requirement already satisfied: wcwidth in /usr/lib/python3/dist-packages (from prompt-toolkit!=3.0.37,<3.1.0,>=3.0.30->ipython<9->ipympl) (0.2.5)\n",
      "Requirement already satisfied: six>=1.5 in /usr/lib/python3/dist-packages (from python-dateutil>=2.7->matplotlib<4,>=3.4.0->ipympl) (1.16.0)\n",
      "Requirement already satisfied: asttokens>=2.1.0 in /home/pablo/.local/lib/python3.10/site-packages (from stack-data->ipython<9->ipympl) (2.2.1)\n",
      "Requirement already satisfied: pure-eval in /home/pablo/.local/lib/python3.10/site-packages (from stack-data->ipython<9->ipympl) (0.2.2)\n",
      "Requirement already satisfied: executing>=1.2.0 in /home/pablo/.local/lib/python3.10/site-packages (from stack-data->ipython<9->ipympl) (1.2.0)\n",
      "Requirement already satisfied: platformdirs>=2.5 in /home/pablo/.local/lib/python3.10/site-packages (from jupyter-core!=5.0.*,>=4.12->ipykernel>=4.5.1->ipywidgets<9,>=7.6.0->ipympl) (3.5.1)\n"
     ]
    }
   ],
   "source": [
    "!pip install lightning\n",
    "!pip install ipympl # para gráficos interactivos"
   ]
  },
  {
   "attachments": {},
   "cell_type": "markdown",
   "metadata": {},
   "source": [
    "### Definición de la red\n",
    "En este caso vamos a entrenar un pequeño **autoencoder** para ejemplificar el uso de PyTorch Lightning. En lugar de utilizar como clase base la clase `torch.nn.Module`, utilizaremos `pl.LightningModule`."
   ]
  },
  {
   "cell_type": "code",
   "execution_count": 6,
   "metadata": {},
   "outputs": [],
   "source": [
    "from torch import optim, nn\n",
    "import lightning.pytorch as pl\n",
    "import torchmetrics as tm\n",
    "import torch.nn.functional as F\n",
    "\n",
    "# Definimos la red\n",
    "class AutoEncoder(pl.LightningModule):\n",
    "    def __init__(self):\n",
    "        super().__init__()\n",
    "        self.encoder = nn.Sequential(nn.Linear(28 * 28, 64), nn.ReLU(), nn.Linear(64, 3))\n",
    "        self.decoder = nn.Sequential(nn.Linear(3, 64), nn.ReLU(), nn.Linear(64, 28 * 28))\n",
    "        # Utilizado para aculumar el loss en el bucle de validación\n",
    "        self.validation_loss = tm.MeanSquaredError()\n",
    "\n",
    "    # Este método define el bucle de entrenamiento\n",
    "    def training_step(self, batch, batch_idx):\n",
    "        #Al ser un autoencoder, no necesitamos la y\n",
    "        x, _ = batch\n",
    "        x = x.view(x.size(0), -1)\n",
    "        z = self.encoder(x)\n",
    "        x_hat = self.decoder(z)\n",
    "        loss = nn.functional.mse_loss(x_hat, x)\n",
    "        self.log(\"train_loss\", loss)\n",
    "        return loss\n",
    "    \n",
    "    def validation_step(self, batch, batch_idx):\n",
    "        x, _ = batch\n",
    "        x = x.view(x.size(0), -1)\n",
    "        z = self.encoder(x)\n",
    "        x_hat = self.decoder(z)\n",
    "        loss = F.mse_loss(x_hat, x)\n",
    "        self.validation_loss(x_hat, x)\n",
    "        self.log(\"val_loss\", loss, prog_bar=True)\n",
    "\n",
    "    def on_validation_epoch_end(self):\n",
    "        val_loss = self.validation_loss.compute()\n",
    "        self.log(\"val_loss_epoch\", val_loss)\n",
    "\n",
    "    def predict_step(self, batch, batch_idx):\n",
    "        x, _ = batch\n",
    "        x = x.view(x.size(0), -1)\n",
    "        z = self.encoder(x)\n",
    "        return z\n",
    "\n",
    "    def configure_optimizers(self):\n",
    "        optimizer = optim.Adam(self.parameters(), lr=1e-3)\n",
    "        return optimizer\n",
    "    \n",
    "model = AutoEncoder()"
   ]
  },
  {
   "attachments": {},
   "cell_type": "markdown",
   "metadata": {},
   "source": [
    "### Cargamos el Dataset\n",
    "En este caso utilizaremos la clase que PyTorch Lightning provee para la carga de datos: `pl.LightningDataModule`. Para ello debemos de implementar una serie de métodos que devolverán los DataLoaders correspondientes:"
   ]
  },
  {
   "cell_type": "code",
   "execution_count": 7,
   "metadata": {},
   "outputs": [],
   "source": [
    "from torchvision.datasets import MNIST\n",
    "from torchvision import transforms\n",
    "from torch.utils.data import random_split, DataLoader\n",
    "\n",
    "class MNISTDataModule(pl.LightningDataModule):\n",
    "    def __init__(self, batch_size=32, num_workers=2):\n",
    "        super().__init__()\n",
    "        self.batch_size = batch_size\n",
    "        self.num_workers = num_workers\n",
    "        self.transform = transforms.Compose([transforms.ToTensor()])\n",
    "\n",
    "    def prepare_data(self):\n",
    "        # descargamos los datos\n",
    "        MNIST(root='data', train=True, download=True)\n",
    "        MNIST(root='data', train=False, download=True)\n",
    "\n",
    "    def setup(self, stage):\n",
    "        if stage == \"fit\":\n",
    "            mnist_full = MNIST(root='data', train=True, transform=self.transform)\n",
    "            self.mnist_train, self.mnist_val = random_split(mnist_full, [50000, 10000])\n",
    "        if stage == \"predict\":\n",
    "            self.mnist_test = MNIST(root='data', train=False, transform=self.transform)\n",
    "\n",
    "    def train_dataloader(self):\n",
    "        return DataLoader(self.mnist_train, batch_size=self.batch_size, num_workers=self.num_workers)\n",
    "\n",
    "    def val_dataloader(self):\n",
    "        return DataLoader(self.mnist_val, batch_size=self.batch_size, num_workers=self.num_workers)\n",
    "\n",
    "    def predict_dataloader(self):\n",
    "        return DataLoader(self.mnist_test, batch_size=self.batch_size, num_workers=self.num_workers)\n",
    "\n",
    "mnist = MNISTDataModule(batch_size=128, num_workers=8)"
   ]
  },
  {
   "attachments": {},
   "cell_type": "markdown",
   "metadata": {},
   "source": [
    "### Entrenando el modelo\n",
    "Para entrenar el modelo solo necesitaremos crear una instancia de la clase `Trainer` y llamar al método `fit`. ESta clase nos ecapsula, entre otras cosas, las siguientes características:\n",
    "\n",
    "\n",
    "- Bucle de entrenamiento\n",
    "- Las llamadas `optimizer.step()`, `loss.backward()`, `optimizer.zero_grad()`.\n",
    "- Las llamadas `model.eval()`, para deshabilitar los gradientes durante la evaluación.\n",
    "- Carga y salvado de checkpoints.\n",
    "- Logueo del experimento (usando tensorboard)\n",
    "- Entrenamiento en múltiples GPUs y TPUs\n",
    "- Entrenamiento con precisión de 16 bits"
   ]
  },
  {
   "cell_type": "code",
   "execution_count": 8,
   "metadata": {},
   "outputs": [
    {
     "name": "stderr",
     "output_type": "stream",
     "text": [
      "GPU available: False, used: False\n",
      "TPU available: False, using: 0 TPU cores\n",
      "IPU available: False, using: 0 IPUs\n",
      "HPU available: False, using: 0 HPUs\n"
     ]
    },
    {
     "name": "stderr",
     "output_type": "stream",
     "text": [
      "\n",
      "  | Name            | Type             | Params\n",
      "-----------------------------------------------------\n",
      "0 | encoder         | Sequential       | 50.4 K\n",
      "1 | decoder         | Sequential       | 51.2 K\n",
      "2 | validation_loss | MeanSquaredError | 0     \n",
      "-----------------------------------------------------\n",
      "101 K     Trainable params\n",
      "0         Non-trainable params\n",
      "101 K     Total params\n",
      "0.407     Total estimated model params size (MB)\n"
     ]
    },
    {
     "data": {
      "application/vnd.jupyter.widget-view+json": {
       "model_id": "e8f2324b42304b5091b42cddfa9dc4ce",
       "version_major": 2,
       "version_minor": 0
      },
      "text/plain": [
       "Sanity Checking: 0it [00:00, ?it/s]"
      ]
     },
     "metadata": {},
     "output_type": "display_data"
    },
    {
     "data": {
      "application/vnd.jupyter.widget-view+json": {
       "model_id": "a815f583ba704ba7b7a64c713f396e90",
       "version_major": 2,
       "version_minor": 0
      },
      "text/plain": [
       "Training: 0it [00:00, ?it/s]"
      ]
     },
     "metadata": {},
     "output_type": "display_data"
    }
   ],
   "source": [
    "# Por defecto utilizará todas las gpus disponibles\n",
    "trainer = pl.Trainer(max_epochs=5, accelerator=\"auto\", devices=\"auto\", strategy=\"auto\")\n",
    "trainer.fit(model=model, datamodule=mnist)"
   ]
  },
  {
   "cell_type": "code",
   "execution_count": null,
   "metadata": {},
   "outputs": [],
   "source": [
    "import torch\n",
    "latent_space_embeddings = trainer.predict(model, datamodule=mnist)\n",
    "latent_space_embeddings = torch.concat(latent_space_embeddings, axis=0)"
   ]
  },
  {
   "attachments": {},
   "cell_type": "markdown",
   "metadata": {},
   "source": []
  },
  {
   "cell_type": "code",
   "execution_count": null,
   "metadata": {},
   "outputs": [],
   "source": [
    "import matplotlib.pyplot as plt\n",
    "from mpl_toolkits.mplot3d import Axes3D\n",
    "\n",
    "%matplotlib widget\n",
    "\n",
    "\n",
    "# C\n",
    "fig = plt.figure()\n",
    "ax = fig.add_subplot(111, projection='3d')\n",
    "\n",
    "# Scatter plot the latent space embeddings with color-coded labels\n",
    "scatter = ax.scatter(\n",
    "    latent_space_embeddings[:, 0],\n",
    "    latent_space_embeddings[:, 1],\n",
    "    latent_space_embeddings[:, 2],\n",
    "    c=mnist.mnist_test.targets,\n",
    "    cmap='tab10'\n",
    ")\n",
    "\n",
    "# Add a colorbar to show the label colors\n",
    "plt.colorbar(scatter)\n",
    "\n",
    "# Set labels for the axes\n",
    "ax.set_xlabel('Latent Dimension 1')\n",
    "ax.set_ylabel('Latent Dimension 2')\n",
    "ax.set_zlabel('Latent Dimension 3')\n",
    "\n",
    "# Show the plot\n",
    "plt.show()\n"
   ]
  }
 ],
 "metadata": {
  "kernelspec": {
   "display_name": "Python 3",
   "language": "python",
   "name": "python3"
  },
  "language_info": {
   "codemirror_mode": {
    "name": "ipython",
    "version": 3
   },
   "file_extension": ".py",
   "mimetype": "text/x-python",
   "name": "python",
   "nbconvert_exporter": "python",
   "pygments_lexer": "ipython3",
   "version": "3.10.6"
  },
  "orig_nbformat": 4
 },
 "nbformat": 4,
 "nbformat_minor": 2
}
