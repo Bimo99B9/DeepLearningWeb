{
 "cells": [
  {
   "attachments": {},
   "cell_type": "markdown",
   "metadata": {},
   "source": [
    "## Introducción a PyTorch (Parte 6)\n",
    "\n",
    "<a target=\"_blank\" href=\"https://colab.research.google.com/github/pglez82/DeepLearningWeb/blob/master/labs/notebooks/Introducci%C3%B3n%20a%20PyTorch%20(Parte%206).ipynb\">\n",
    "  <img src=\"https://colab.research.google.com/assets/colab-badge.svg\" alt=\"Open In Colab\"/>\n",
    "</a>\n",
    "\n",
    "En esta práctica vamos a explicar diferentes elementos de PyTorch que nos permitirán crear arquitecturas de redes neuronales profundas complejas. En particular veremos:\n",
    "- Capas convolucionales\n",
    "- Capas de pooling\n",
    "- Capas para transformers\n",
    "- Capas de dropout\n",
    "- Capas de normalización\n",
    "- Funciones de activación\n",
    "- Funciones de pérdida\n",
    "\n",
    "En general, toda la información acerca de las capas implementadas en PyTorch para poder crear arquitecturas personalizadas de redes neuronales profundas se encuentra bajo el paquete `torch.nn`. Puedes consultar toda la documentación en la siguiente [página](https://pytorch.org/docs/stable/nn.html).\n",
    "\n",
    "En este notebook trataremos las capas más importantes.\n"
   ]
  },
  {
   "attachments": {},
   "cell_type": "markdown",
   "metadata": {},
   "source": [
    "### Capas convolucionales\n",
    "Estas capas son la base de las redes convolucionales. Las tres principales son las siguientes: \n",
    "- `torch.nn.Conv1d`\n",
    "- `torch.nn.Conv2d`\n",
    "- `torch.nn.Conv3d`\n",
    "\n",
    "Se trata de capas convolucionales de 1D, 2D y 3D, respectivamente, utilizadas para procesar datos de entrada con diferentes dimensiones. Realizan convoluciones sobre la entrada y aplican un conjunto de filtros aprendidos para extraer características relevantes."
   ]
  },
  {
   "attachments": {},
   "cell_type": "markdown",
   "metadata": {},
   "source": [
    "### Capas de pooling\n",
    "Estas capas son útiles para reducir la dimensión espacial dentro de una red neuronal.\n",
    "- `torch.nn.MaxPool1d`, `torch.nn.MaxPool2d`, `torch.nn.MaxPool3d`: Estas capas realizan un max pooling de los datos de entrada, reduciendo las dimensiones espaciales y extrayendo las características más destacadas.\n",
    "- `torch.nn.AvgPool1d`, `torch.nn.AvgPool2d`, `torch.nn.AvgPool3d`: Estas capas realizan un pooling medio sobre los datos de entrada, calculando el valor medio de cada ventana de pooling."
   ]
  },
  {
   "attachments": {},
   "cell_type": "markdown",
   "metadata": {},
   "source": [
    "Veamos un ejemplo de red convolucional para **imagenes de 1x3x3**, utilizando capas convolucionales y de pooling:"
   ]
  },
  {
   "cell_type": "code",
   "execution_count": 27,
   "metadata": {},
   "outputs": [
    {
     "name": "stdout",
     "output_type": "stream",
     "text": [
      "CNN(\n",
      "  (conv): Conv2d(1, 8, kernel_size=(2, 2), stride=(1, 1), padding=(1, 1))\n",
      "  (maxpool): MaxPool2d(kernel_size=2, stride=2, padding=0, dilation=1, ceil_mode=False)\n",
      "  (fc): Linear(in_features=32, out_features=10, bias=True)\n",
      ")\n",
      "tensor([[ 0.4446, -0.6106,  0.2139,  0.3862, -0.2858, -0.2249,  0.5461, -0.0150,\n",
      "         -0.2241,  0.0641]], grad_fn=<AddmmBackward0>)\n"
     ]
    }
   ],
   "source": [
    "import torch.nn as nn\n",
    "import torch.nn.functional as F\n",
    "\n",
    "# Suponemos\n",
    "class CNN(nn.Module):\n",
    "    def __init__(self):\n",
    "        super(CNN, self).__init__()\n",
    "        self.conv = nn.Conv2d(in_channels=1, out_channels=8, kernel_size=2, stride=1, padding=1)\n",
    "        self.maxpool=nn.MaxPool2d(kernel_size=2, stride=2)\n",
    "        self.fc = nn.Linear(2*2*8, 10) \n",
    "\n",
    "    def forward(self, x):\n",
    "        out = self.conv(x)\n",
    "        out = F.relu(out)\n",
    "        out = self.maxpool(out)\n",
    "        out = out.reshape(out.size(0), -1)\n",
    "        logits = self.fc(out)\n",
    "        return logits\n",
    "\n",
    "# Creamos el modelo\n",
    "model = CNN()\n",
    "\n",
    "# Imprimir la arquitectura\n",
    "print(model)\n",
    "\n",
    "# Crear una imagen de prueba\n",
    "image = torch.randn((1,1,3,3))\n",
    "print(model(image))"
   ]
  },
  {
   "attachments": {
    "image.png": {
     "image/png": "[encoded data removed]"
    }
   },
   "cell_type": "markdown",
   "metadata": {},
   "source": [
    "Vamos a explicar esta arquitectura paso por paso:\n",
    "- La capa convolucional hace una convolución en 2 dimensiones de la imagen de entrada. Suponiendo que las dimensiones de ésta son 1x4x4, y suponiendo los siguientes parámetros de la convolución:\n",
    "  -  un kernel de 2x2\n",
    "  -  un padding de 1\n",
    "  -  un stride de 1\n",
    "  -  8 canales de salida\n",
    "  \n",
    "  Las dimensiones de salida de esta capa serán 8x4x4 (8 canales de salida con dimensión 3+1+1-2+1=4).\n",
    "\n",
    "  ![image.png](attachment:image.png)\n",
    "\n",
    "- La capa MaxPool2d calcula el máximo con un kernel de 2x2, usando un stride (desplazamiento) de 2 pixeles. Esto nos dará una dimensión de salida de 8x2x2.\n",
    "- Por último la capa totalmente conectada (`Linear`), transforma la salida de las capas anteriores en 10 neuronas de salida (suponiendo por ejemplo que nuestro problema tiene 10 clases)."
   ]
  },
  {
   "attachments": {},
   "cell_type": "markdown",
   "metadata": {},
   "source": [
    "### Capas para transformers\n",
    "- `torch.nn.Transformer`. Clase de alto nivel en PyTorch para representar una arquitectura completa de transformer. A través de sus parámetros como por ejemplo `nhead`, `dropout` o `activation`, podemos configurar la arquitectura para nuestro problema. Consulta la siguiente [página](https://pytorch.org/docs/stable/generated/torch.nn.Transformer.html) para conocer todos sus atributos.\n",
    "- `torch.nn.MultiheadAttention`. En el caso de querer solamente el mecanismo de self-attention y no el transformer completo podremos usar esta clase."
   ]
  },
  {
   "attachments": {},
   "cell_type": "markdown",
   "metadata": {},
   "source": [
    "### Capas de dropout\n",
    "`torch.nn.Dropout`, `torch.nn.Dropout2d`, `torch.nn.Dropout3d`. Según las dimensiones del tensor de entrada. Todas ellas tienen un atributo `p` para controlar el porcentaje de conexiones de se desactivarán en una iteración dada."
   ]
  },
  {
   "attachments": {},
   "cell_type": "markdown",
   "metadata": {},
   "source": [
    "### Capas de normalización\n",
    "`torch.nn.BatchNorm1d`, `torch.nn.BatchNorm2d` y `torch.nn.BatchNorm3d`. Capas para realizar batch-normalization (revisa la teoría si es necesario para entender como funcionan estas capas)."
   ]
  },
  {
   "attachments": {},
   "cell_type": "markdown",
   "metadata": {},
   "source": [
    "### Funciones de activación\n",
    "PyTorch incorpora las funciones de activación más importantes. Algunas de ellas son: `torch.nn.ReLU`, `torch.nn.LeakyReLU`, `torch.nn.Sigmoid` y `torch.nn.Tanh`."
   ]
  },
  {
   "attachments": {},
   "cell_type": "markdown",
   "metadata": {},
   "source": [
    "### Funciones de pérdida\n",
    "En cuanto a funciones de pérdida, también tenemos las más comunes ya implementadas en PyTorch. Aquí van algunos ejemplos:\n",
    "\n",
    "- Funciones adecuadas para problemas de regresión:\n",
    "    - `torch.nn.MSELoss` (Mean Squared Error).\n",
    "    - `torch.nn.L1Loss` (Mean Absolute Error).\n",
    "\n",
    "- Funciones de pérdida para clasificación:\n",
    "    - `torch.nn.CrossEntropyLoss`. CrossEntropyLoss. Es importante saber que esta función ya incluye la operación softmax por tanto debemos pasarle directamente la salida de la última capa lineal de nuestra red (logits).\n",
    "    - `torch.nn.BCELoss` (Binary Cross Entropy). \n",
    "    - `torch.nn.BCEWithLogitsLoss`. Lo mismo que la anterior pero aplica una sigmoide a los datos de entrada."
   ]
  },
  {
   "attachments": {},
   "cell_type": "markdown",
   "metadata": {},
   "source": [
    "### Ejercicios\n",
    "1. Crea una arquitectura de red convolucional con dos capas convolucionales para imágenes del estilo a MNIST (1x28x28). \n",
    "2. ¿Prueba a entrenar esta red en este conjunto. Funciona mejor que una red totalmente conectada?"
   ]
  }
 ],
 "metadata": {
  "kernelspec": {
   "display_name": "Python 3",
   "language": "python",
   "name": "python3"
  },
  "language_info": {
   "codemirror_mode": {
    "name": "ipython",
    "version": 3
   },
   "file_extension": ".py",
   "mimetype": "text/x-python",
   "name": "python",
   "nbconvert_exporter": "python",
   "pygments_lexer": "ipython3",
   "version": "3.10.6"
  },
  "orig_nbformat": 4
 },
 "nbformat": 4,
 "nbformat_minor": 2
}
