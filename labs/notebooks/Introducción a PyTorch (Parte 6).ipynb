{
 "cells": [
  {
   "attachments": {},
   "cell_type": "markdown",
   "metadata": {},
   "source": [
    "## Introducción a PyTorch (Parte 6)\n",
    "\n",
    "<a target=\"_blank\" href=\"https://colab.research.google.com/github/pglez82/DeepLearningWeb/blob/master/labs/notebooks/Introducci%C3%B3n%20a%20PyTorch%20(Parte%206).ipynb\">\n",
    "  <img src=\"https://colab.research.google.com/assets/colab-badge.svg\" alt=\"Open In Colab\"/>\n",
    "</a>\n",
    "\n",
    "En esta práctica vamos a explicar diferentes elementos de PyTorch que nos permitirán crear arquitecturas de redes neuronales profundas complejas. En particular veremos:\n",
    "- Capas convolucionales\n",
    "- Capas de pooling\n",
    "- Capas para transformers\n",
    "- Capas de dropout\n",
    "- Capas de normalización\n",
    "- Funciones de activación\n",
    "- Funciones de pérdida\n",
    "\n",
    "En general, toda la información acerca de las capas implementadas en PyTorch para poder crear arquitecturas personalizadas de redes neuronales profundas se encuentra bajo el paquete `torch.nn`. Puedes consultar toda la documentación en la siguiente [página](https://pytorch.org/docs/stable/nn.html).\n",
    "\n",
    "En este notebook trataremos las capas más importantes.\n"
   ]
  },
  {
   "attachments": {},
   "cell_type": "markdown",
   "metadata": {},
   "source": [
    "### Capas convolucionales\n",
    "Estas capas son la base de las redes convolucionales. Las tres principales son las siguientes: \n",
    "- `torch.nn.Conv1d`\n",
    "- `torch.nn.Conv2d`\n",
    "- `torch.nn.Conv3d`\n",
    "\n",
    "Se trata de capas convolucionales de 1D, 2D y 3D, respectivamente, utilizadas para procesar datos de entrada con diferentes dimensiones. Realizan convoluciones sobre la entrada y aplican un conjunto de filtros aprendidos para extraer características relevantes."
   ]
  },
  {
   "attachments": {},
   "cell_type": "markdown",
   "metadata": {},
   "source": [
    "### Capas de pooling\n",
    "Estas capas son útiles para reducir la dimensión espacial dentro de una red neuronal.\n",
    "- `torch.nn.MaxPool1d`, `torch.nn.MaxPool2d`, `torch.nn.MaxPool3d`: Estas capas realizan un max pooling de los datos de entrada, reduciendo las dimensiones espaciales y extrayendo las características más destacadas.\n",
    "- `torch.nn.AvgPool1d`, `torch.nn.AvgPool2d`, `torch.nn.AvgPool3d`: Estas capas realizan un pooling medio sobre los datos de entrada, calculando el valor medio de cada ventana de pooling."
   ]
  },
  {
   "attachments": {},
   "cell_type": "markdown",
   "metadata": {},
   "source": [
    "Veamos un ejemplo de red convolucional para **imagenes de 1x3x3**, utilizando capas convolucionales y de pooling:"
   ]
  },
  {
   "cell_type": "code",
   "execution_count": 2,
   "metadata": {},
   "outputs": [
    {
     "name": "stdout",
     "output_type": "stream",
     "text": [
      "CNN(\n",
      "  (conv): Conv2d(1, 8, kernel_size=(2, 2), stride=(1, 1), padding=(1, 1))\n",
      "  (maxpool): MaxPool2d(kernel_size=2, stride=2, padding=0, dilation=1, ceil_mode=False)\n",
      "  (fc): Linear(in_features=32, out_features=10, bias=True)\n",
      ")\n",
      "tensor([[ 0.1225,  0.2868, -0.5401,  0.4282,  0.1701,  0.3338,  0.6502, -0.7961,\n",
      "          1.2431, -0.0821]], grad_fn=<AddmmBackward0>)\n"
     ]
    }
   ],
   "source": [
    "import torch\n",
    "import torch.nn as nn\n",
    "import torch.nn.functional as F\n",
    "\n",
    "# Suponemos\n",
    "class CNN(nn.Module):\n",
    "    def __init__(self):\n",
    "        super(CNN, self).__init__()\n",
    "        self.conv = nn.Conv2d(in_channels=1, out_channels=8, kernel_size=2, stride=1, padding=1)\n",
    "        self.maxpool=nn.MaxPool2d(kernel_size=2, stride=2)\n",
    "        self.fc = nn.Linear(2*2*8, 10) \n",
    "\n",
    "    def forward(self, x):\n",
    "        out = self.conv(x)\n",
    "        out = F.relu(out)\n",
    "        out = self.maxpool(out)\n",
    "        out = out.reshape(out.size(0), -1)\n",
    "        logits = self.fc(out)\n",
    "        return logits\n",
    "\n",
    "# Creamos el modelo\n",
    "model = CNN()\n",
    "\n",
    "# Imprimir la arquitectura\n",
    "print(model)\n",
    "\n",
    "# Crear una imagen de prueba\n",
    "image = torch.randn((1,1,3,3))\n",
    "print(model(image))"
   ]
  },
  {
   "cell_type": "markdown",
   "metadata": {},
   "source": [
    "Vamos a explicar esta arquitectura paso por paso:\n",
    "- La capa convolucional hace una convolución en 2 dimensiones de la imagen de entrada. Suponiendo que las dimensiones de ésta son 1x4x4, y suponiendo los siguientes parámetros de la convolución:\n",
    "  -  un kernel de 2x2\n",
    "  -  un padding de 1\n",
    "  -  un stride de 1\n",
    "  -  8 canales de salida\n",
    "  \n",
    "  Las dimensiones de salida de esta capa serán 8x4x4 (8 canales de salida con dimensión 3+1+1-2+1=4).\n",
    "\n",
    "  ![image.png](data:image/png;base64,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))\n",
    "\n",
    "- La capa MaxPool2d calcula el máximo con un kernel de 2x2, usando un stride (desplazamiento) de 2 pixeles. Esto nos dará una dimensión de salida de 8x2x2.\n",
    "- Por último la capa totalmente conectada (`Linear`), transforma la salida de las capas anteriores en 10 neuronas de salida (suponiendo por ejemplo que nuestro problema tiene 10 clases)."
   ]
  },
  {
   "attachments": {},
   "cell_type": "markdown",
   "metadata": {},
   "source": [
    "### Capas para transformers\n",
    "- `torch.nn.Transformer`. Clase de alto nivel en PyTorch para representar una arquitectura completa de transformer. A través de sus parámetros como por ejemplo `nhead`, `dropout` o `activation`, podemos configurar la arquitectura para nuestro problema. Consulta la siguiente [página](https://pytorch.org/docs/stable/generated/torch.nn.Transformer.html) para conocer todos sus atributos.\n",
    "- `torch.nn.MultiheadAttention`. En el caso de querer solamente el mecanismo de self-attention y no el transformer completo podremos usar esta clase."
   ]
  },
  {
   "attachments": {},
   "cell_type": "markdown",
   "metadata": {},
   "source": [
    "### Capas de dropout\n",
    "`torch.nn.Dropout`, `torch.nn.Dropout2d`, `torch.nn.Dropout3d`. Según las dimensiones del tensor de entrada. Todas ellas tienen un atributo `p` para controlar el porcentaje de conexiones de se desactivarán en una iteración dada."
   ]
  },
  {
   "attachments": {},
   "cell_type": "markdown",
   "metadata": {},
   "source": [
    "### Capas de normalización\n",
    "`torch.nn.BatchNorm1d`, `torch.nn.BatchNorm2d` y `torch.nn.BatchNorm3d`. Capas para realizar batch-normalization (revisa la teoría si es necesario para entender como funcionan estas capas)."
   ]
  },
  {
   "attachments": {},
   "cell_type": "markdown",
   "metadata": {},
   "source": [
    "### Funciones de activación\n",
    "PyTorch incorpora las funciones de activación más importantes. Algunas de ellas son: `torch.nn.ReLU`, `torch.nn.LeakyReLU`, `torch.nn.Sigmoid` y `torch.nn.Tanh`."
   ]
  },
  {
   "attachments": {},
   "cell_type": "markdown",
   "metadata": {},
   "source": [
    "### Funciones de pérdida\n",
    "En cuanto a funciones de pérdida, también tenemos las más comunes ya implementadas en PyTorch. Aquí van algunos ejemplos:\n",
    "\n",
    "- Funciones adecuadas para problemas de regresión:\n",
    "    - `torch.nn.MSELoss` (Mean Squared Error).\n",
    "    - `torch.nn.L1Loss` (Mean Absolute Error).\n",
    "\n",
    "- Funciones de pérdida para clasificación:\n",
    "    - `torch.nn.CrossEntropyLoss`. CrossEntropyLoss. Es importante saber que esta función ya incluye la operación softmax por tanto debemos pasarle directamente la salida de la última capa lineal de nuestra red (logits).\n",
    "    - `torch.nn.BCELoss` (Binary Cross Entropy). \n",
    "    - `torch.nn.BCEWithLogitsLoss`. Lo mismo que la anterior pero aplica una sigmoide a los datos de entrada."
   ]
  },
  {
   "attachments": {},
   "cell_type": "markdown",
   "metadata": {},
   "source": [
    "### Ejercicios\n",
    "1. Crea una arquitectura de red convolucional con dos capas convolucionales para imágenes del estilo a MNIST (1x28x28). \n",
    "2. Prueba a entrenar esta red en este conjunto. ¿Funciona mejor que una red totalmente conectada?"
   ]
  }
 ],
 "metadata": {
  "kernelspec": {
   "display_name": "Python 3",
   "language": "python",
   "name": "python3"
  },
  "language_info": {
   "codemirror_mode": {
    "name": "ipython",
    "version": 3
   },
   "file_extension": ".py",
   "mimetype": "text/x-python",
   "name": "python",
   "nbconvert_exporter": "python",
   "pygments_lexer": "ipython3",
   "version": "3.10.12"
  },
  "orig_nbformat": 4
 },
 "nbformat": 4,
 "nbformat_minor": 2
}
